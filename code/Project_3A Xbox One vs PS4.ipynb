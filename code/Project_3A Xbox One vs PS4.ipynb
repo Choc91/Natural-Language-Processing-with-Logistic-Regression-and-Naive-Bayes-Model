{
 "cells": [
  {
   "cell_type": "markdown",
   "metadata": {},
   "source": [
    "# Project_3 Xbox One vs PS4\n",
    "\n",
    "# Problem Statement\n",
    "\n",
    "Using Reddit's API to collect posts from XBox One & PS4 subreddits, then use NLP to train a classifier to differentiate which subreddit the post came from. \n",
    "\n",
    "Microsoft can use the classifier to efficiently filter posts from other social media platform for further analysis.\n",
    "\n",
    "\n",
    "\n",
    "## Executive Summary:\n",
    "\n",
    "### 1. Webscraping\n",
    "\n",
    "### 2. Import libraries and load data\n",
    "\n",
    "### 3. Data cleaning & Exploratory Data Analysis\n",
    "\n",
    "### 4. Modeling\n",
    "### 4.1 Logistic Regression Model\n",
    "### 4.2 Naive Bayes model\n",
    "### 4.3Logistic Regression Model with Pipeline\n",
    "### 4.4MultinomialNB Model with Pipeline\n",
    "\n",
    "### 5. Conclusion and Recommendations"
   ]
  },
  {
   "cell_type": "markdown",
   "metadata": {},
   "source": [
    "### 1.Webscraping"
   ]
  },
  {
   "cell_type": "code",
   "execution_count": 1,
   "metadata": {},
   "outputs": [],
   "source": [
    "#import library for webscraping\n",
    "import requests\n",
    "import time\n",
    "import pandas as pd"
   ]
  },
  {
   "cell_type": "code",
   "execution_count": 2,
   "metadata": {},
   "outputs": [],
   "source": [
    "#url for webscraping\n",
    "xboxone_url = 'https://www.reddit.com/r/xboxone.json'\n",
    "ps4_url = 'https://www.reddit.com/r/PS4.json'"
   ]
  },
  {
   "cell_type": "code",
   "execution_count": 3,
   "metadata": {},
   "outputs": [],
   "source": [
    "#Define header\n",
    "headers = {'user-agent': 'Chope 0.1'}"
   ]
  },
  {
   "cell_type": "code",
   "execution_count": 4,
   "metadata": {},
   "outputs": [],
   "source": [
    "#Make a GET request to url\n",
    "res_xboxone = requests.get(xboxone_url, headers=headers)"
   ]
  },
  {
   "cell_type": "code",
   "execution_count": 5,
   "metadata": {},
   "outputs": [
    {
     "data": {
      "text/plain": [
       "200"
      ]
     },
     "execution_count": 5,
     "metadata": {},
     "output_type": "execute_result"
    }
   ],
   "source": [
    "#Get status code\n",
    "res_xboxone.status_code"
   ]
  },
  {
   "cell_type": "code",
   "execution_count": 6,
   "metadata": {},
   "outputs": [],
   "source": [
    "#Assign json\n",
    "the_json_xboxone = res_xboxone.json()"
   ]
  },
  {
   "cell_type": "code",
   "execution_count": 7,
   "metadata": {},
   "outputs": [
    {
     "data": {
      "text/plain": [
       "['data', 'kind']"
      ]
     },
     "execution_count": 7,
     "metadata": {},
     "output_type": "execute_result"
    }
   ],
   "source": [
    "#Sorting\n",
    "sorted(the_json_xboxone.keys())"
   ]
  },
  {
   "cell_type": "code",
   "execution_count": 8,
   "metadata": {},
   "outputs": [
    {
     "data": {
      "text/plain": [
       "['after', 'before', 'children', 'dist', 'modhash']"
      ]
     },
     "execution_count": 8,
     "metadata": {},
     "output_type": "execute_result"
    }
   ],
   "source": [
    "#Sorting\n",
    "sorted(the_json_xboxone['data'].keys())"
   ]
  },
  {
   "cell_type": "code",
   "execution_count": 9,
   "metadata": {},
   "outputs": [
    {
     "data": {
      "text/plain": [
       "{'approved_at_utc': None,\n",
       " 'subreddit': 'xboxone',\n",
       " 'selftext': '',\n",
       " 'author_fullname': 't2_fqykj',\n",
       " 'saved': False,\n",
       " 'mod_reason_title': None,\n",
       " 'gilded': 0,\n",
       " 'clicked': False,\n",
       " 'title': 'E3 2020 Officially Canceled',\n",
       " 'link_flair_richtext': [],\n",
       " 'subreddit_name_prefixed': 'r/xboxone',\n",
       " 'hidden': False,\n",
       " 'pwls': 6,\n",
       " 'link_flair_css_class': None,\n",
       " 'downs': 0,\n",
       " 'thumbnail_height': 78,\n",
       " 'hide_score': False,\n",
       " 'name': 't3_fgyxrc',\n",
       " 'quarantine': False,\n",
       " 'link_flair_text_color': 'dark',\n",
       " 'author_flair_background_color': None,\n",
       " 'subreddit_type': 'public',\n",
       " 'ups': 8411,\n",
       " 'total_awards_received': 1,\n",
       " 'media_embed': {},\n",
       " 'thumbnail_width': 140,\n",
       " 'author_flair_template_id': None,\n",
       " 'is_original_content': False,\n",
       " 'user_reports': [],\n",
       " 'secure_media': None,\n",
       " 'is_reddit_media_domain': False,\n",
       " 'is_meta': False,\n",
       " 'category': None,\n",
       " 'secure_media_embed': {},\n",
       " 'link_flair_text': None,\n",
       " 'can_mod_post': False,\n",
       " 'score': 8411,\n",
       " 'approved_by': None,\n",
       " 'author_premium': False,\n",
       " 'thumbnail': 'https://b.thumbs.redditmedia.com/zCALXh85CDNZu6uEkIDeIV_e_qcGP89LLDvAzywmryU.jpg',\n",
       " 'edited': False,\n",
       " 'author_flair_css_class': None,\n",
       " 'author_flair_richtext': [],\n",
       " 'gildings': {},\n",
       " 'post_hint': 'link',\n",
       " 'content_categories': None,\n",
       " 'is_self': False,\n",
       " 'mod_note': None,\n",
       " 'created': 1583969460.0,\n",
       " 'link_flair_type': 'text',\n",
       " 'wls': 6,\n",
       " 'removed_by_category': None,\n",
       " 'banned_by': None,\n",
       " 'author_flair_type': 'text',\n",
       " 'domain': 'gamespot.com',\n",
       " 'allow_live_comments': True,\n",
       " 'selftext_html': None,\n",
       " 'likes': None,\n",
       " 'suggested_sort': None,\n",
       " 'banned_at_utc': None,\n",
       " 'view_count': None,\n",
       " 'archived': False,\n",
       " 'no_follow': False,\n",
       " 'is_crosspostable': False,\n",
       " 'pinned': False,\n",
       " 'over_18': False,\n",
       " 'preview': {'images': [{'source': {'url': 'https://external-preview.redd.it/7ggU-a36MCHUH0jyblsWMyO3ZjpLZn2n1jcObFcrH2g.jpg?auto=webp&amp;s=ca10f4d73f45a0f698e674eb6e7ad0f1740ca0a6',\n",
       "     'width': 1280,\n",
       "     'height': 720},\n",
       "    'resolutions': [{'url': 'https://external-preview.redd.it/7ggU-a36MCHUH0jyblsWMyO3ZjpLZn2n1jcObFcrH2g.jpg?width=108&amp;crop=smart&amp;auto=webp&amp;s=68adb496012a54cb54bf2883dc8bf280c277d70f',\n",
       "      'width': 108,\n",
       "      'height': 60},\n",
       "     {'url': 'https://external-preview.redd.it/7ggU-a36MCHUH0jyblsWMyO3ZjpLZn2n1jcObFcrH2g.jpg?width=216&amp;crop=smart&amp;auto=webp&amp;s=f1ffd7a8861c887973e6252739bc5220194808a3',\n",
       "      'width': 216,\n",
       "      'height': 121},\n",
       "     {'url': 'https://external-preview.redd.it/7ggU-a36MCHUH0jyblsWMyO3ZjpLZn2n1jcObFcrH2g.jpg?width=320&amp;crop=smart&amp;auto=webp&amp;s=25be45f48a5924ede32d65e09261aeb619438796',\n",
       "      'width': 320,\n",
       "      'height': 180},\n",
       "     {'url': 'https://external-preview.redd.it/7ggU-a36MCHUH0jyblsWMyO3ZjpLZn2n1jcObFcrH2g.jpg?width=640&amp;crop=smart&amp;auto=webp&amp;s=9345ee4d8ef78a1697e263fc439f229b3260d20d',\n",
       "      'width': 640,\n",
       "      'height': 360},\n",
       "     {'url': 'https://external-preview.redd.it/7ggU-a36MCHUH0jyblsWMyO3ZjpLZn2n1jcObFcrH2g.jpg?width=960&amp;crop=smart&amp;auto=webp&amp;s=611c1be9806dd2fca8a523f0c1cdd2c5d673e09a',\n",
       "      'width': 960,\n",
       "      'height': 540},\n",
       "     {'url': 'https://external-preview.redd.it/7ggU-a36MCHUH0jyblsWMyO3ZjpLZn2n1jcObFcrH2g.jpg?width=1080&amp;crop=smart&amp;auto=webp&amp;s=7b61a6df68ea017817491dfb80697ffc1641f45f',\n",
       "      'width': 1080,\n",
       "      'height': 607}],\n",
       "    'variants': {},\n",
       "    'id': 'EDMZkagRJwGbVaZgnnvuWOZqr3A-hYdEE0d6OBL9lKQ'}],\n",
       "  'enabled': False},\n",
       " 'all_awardings': [{'giver_coin_reward': None,\n",
       "   'subreddit_id': None,\n",
       "   'is_new': False,\n",
       "   'days_of_drip_extension': 0,\n",
       "   'coin_price': 150,\n",
       "   'id': 'award_88fdcafc-57a0-48db-99cc-76276bfaf28b',\n",
       "   'penny_donate': None,\n",
       "   'coin_reward': 0,\n",
       "   'icon_url': 'https://i.redd.it/award_images/t5_22cerq/tcofsbf92md41_PressF.png',\n",
       "   'days_of_premium': 0,\n",
       "   'icon_height': 2048,\n",
       "   'resized_icons': [{'url': 'https://preview.redd.it/award_images/t5_22cerq/tcofsbf92md41_PressF.png?width=16&amp;height=16&amp;auto=webp&amp;s=3481c2a89c2ebe653aae1b8d627c20c10abfc79e',\n",
       "     'width': 16,\n",
       "     'height': 16},\n",
       "    {'url': 'https://preview.redd.it/award_images/t5_22cerq/tcofsbf92md41_PressF.png?width=32&amp;height=32&amp;auto=webp&amp;s=2bd2b8a9417e7cc18752927c11f98b242c133f2f',\n",
       "     'width': 32,\n",
       "     'height': 32},\n",
       "    {'url': 'https://preview.redd.it/award_images/t5_22cerq/tcofsbf92md41_PressF.png?width=48&amp;height=48&amp;auto=webp&amp;s=a34e3d83c5dd9f6c731b1375500e4de8d4fee652',\n",
       "     'width': 48,\n",
       "     'height': 48},\n",
       "    {'url': 'https://preview.redd.it/award_images/t5_22cerq/tcofsbf92md41_PressF.png?width=64&amp;height=64&amp;auto=webp&amp;s=6525899b9a01d5b0c4deea6c34cd8436ee1ff0c7',\n",
       "     'width': 64,\n",
       "     'height': 64},\n",
       "    {'url': 'https://preview.redd.it/award_images/t5_22cerq/tcofsbf92md41_PressF.png?width=128&amp;height=128&amp;auto=webp&amp;s=c9e094023649693de991fff551a0c9561d11163a',\n",
       "     'width': 128,\n",
       "     'height': 128}],\n",
       "   'icon_width': 2048,\n",
       "   'start_date': None,\n",
       "   'is_enabled': True,\n",
       "   'description': 'To pay respects.',\n",
       "   'end_date': None,\n",
       "   'subreddit_coin_reward': 0,\n",
       "   'count': 1,\n",
       "   'name': 'Press F',\n",
       "   'icon_format': None,\n",
       "   'award_sub_type': 'GLOBAL',\n",
       "   'penny_price': None,\n",
       "   'award_type': 'global'}],\n",
       " 'awarders': [],\n",
       " 'media_only': False,\n",
       " 'can_gild': False,\n",
       " 'spoiler': False,\n",
       " 'locked': False,\n",
       " 'author_flair_text': None,\n",
       " 'visited': False,\n",
       " 'removed_by': None,\n",
       " 'num_reports': None,\n",
       " 'distinguished': None,\n",
       " 'subreddit_id': 't5_2xbci',\n",
       " 'mod_reason_by': None,\n",
       " 'removal_reason': None,\n",
       " 'link_flair_background_color': '',\n",
       " 'id': 'fgyxrc',\n",
       " 'is_robot_indexable': True,\n",
       " 'report_reasons': None,\n",
       " 'author': 'alexeymakarov',\n",
       " 'discussion_type': None,\n",
       " 'num_comments': 492,\n",
       " 'send_replies': False,\n",
       " 'whitelist_status': 'all_ads',\n",
       " 'contest_mode': False,\n",
       " 'mod_reports': [],\n",
       " 'author_patreon_flair': False,\n",
       " 'author_flair_text_color': None,\n",
       " 'permalink': '/r/xboxone/comments/fgyxrc/e3_2020_officially_canceled/',\n",
       " 'parent_whitelist_status': 'all_ads',\n",
       " 'stickied': False,\n",
       " 'url': 'https://www.gamespot.com/articles/e3-2020-officially-canceled/1100-6474647/?ftag=GSS-05-10aab8e',\n",
       " 'subreddit_subscribers': 1825760,\n",
       " 'created_utc': 1583940660.0,\n",
       " 'num_crossposts': 0,\n",
       " 'media': None,\n",
       " 'is_video': False}"
      ]
     },
     "execution_count": 9,
     "metadata": {},
     "output_type": "execute_result"
    }
   ],
   "source": [
    "#scrape first thread\n",
    "the_json_xboxone['data']['children'][1]['data']"
   ]
  },
  {
   "cell_type": "code",
   "execution_count": 10,
   "metadata": {},
   "outputs": [
    {
     "data": {
      "text/plain": [
       "'t3_fgs2xx'"
      ]
     },
     "execution_count": 10,
     "metadata": {},
     "output_type": "execute_result"
    }
   ],
   "source": [
    "#get id of first thread\n",
    "the_json_xboxone['data']['after']"
   ]
  },
  {
   "cell_type": "code",
   "execution_count": 11,
   "metadata": {},
   "outputs": [
    {
     "data": {
      "text/plain": [
       "['t3_fgxqjj',\n",
       " 't3_fgyxrc',\n",
       " 't3_fgzcd6',\n",
       " 't3_fh7l6c',\n",
       " 't3_fh712y',\n",
       " 't3_fh4ujs',\n",
       " 't3_fh90gy',\n",
       " 't3_fgyih6',\n",
       " 't3_fgvkfl',\n",
       " 't3_fh9tmw',\n",
       " 't3_fh1zg2',\n",
       " 't3_fgz23s',\n",
       " 't3_fh9khe',\n",
       " 't3_fh7x5y',\n",
       " 't3_fgypsf',\n",
       " 't3_fh2oal',\n",
       " 't3_fha0mg',\n",
       " 't3_fhahkw',\n",
       " 't3_fh3tyb',\n",
       " 't3_fgwq3s',\n",
       " 't3_fh4qyj',\n",
       " 't3_fh1sg6',\n",
       " 't3_fgz6c7',\n",
       " 't3_fgcgpr',\n",
       " 't3_fgxs5t',\n",
       " 't3_fgs2xx']"
      ]
     },
     "execution_count": 11,
     "metadata": {},
     "output_type": "execute_result"
    }
   ],
   "source": [
    "#get more thread id\n",
    "[post['data']['name'] for post in the_json_xboxone['data']['children']]"
   ]
  },
  {
   "cell_type": "code",
   "execution_count": 12,
   "metadata": {},
   "outputs": [],
   "source": [
    "#set param\n",
    "param = {'after': 't3_fffrwt'}"
   ]
  },
  {
   "cell_type": "code",
   "execution_count": null,
   "metadata": {},
   "outputs": [],
   "source": [
    "#assign param\n",
    "requests.get(xboxone_url, params = param, headers=headers)"
   ]
  },
  {
   "cell_type": "code",
   "execution_count": null,
   "metadata": {},
   "outputs": [],
   "source": [
    "#establish webscrape loop\n",
    "xboxone_posts = []\n",
    "after = None\n",
    "for i in range(40):\n",
    "    print(i)\n",
    "    if after == None:\n",
    "        params = {}\n",
    "    else:\n",
    "        params = {'after': after}\n",
    "    url = 'https://www.reddit.com/r/xboxone.json'\n",
    "    res = requests.get(url, params=params, headers=headers)\n",
    "    if res.status_code == 200:\n",
    "        the_json_xboxone = res.json()\n",
    "        xboxone_posts.extend(the_json_xboxone['data']['children'])\n",
    "        after = the_json_xboxone['data']['after']\n",
    "    else:\n",
    "        print(res.status_code)\n",
    "        break\n",
    "    time.sleep(1)"
   ]
  },
  {
   "cell_type": "code",
   "execution_count": null,
   "metadata": {},
   "outputs": [],
   "source": [
    "#check length\n",
    "len(set([p['data']['name']for p in xboxone_posts]))"
   ]
  },
  {
   "cell_type": "code",
   "execution_count": null,
   "metadata": {},
   "outputs": [],
   "source": [
    "#assign dataframe\n",
    "xboxone = pd.DataFrame(xboxone_posts)"
   ]
  },
  {
   "cell_type": "code",
   "execution_count": null,
   "metadata": {},
   "outputs": [],
   "source": [
    "#save as csv file\n",
    "pd.DataFrame(xboxone_posts).to_csv('xboxone.csv')"
   ]
  },
  {
   "cell_type": "code",
   "execution_count": null,
   "metadata": {},
   "outputs": [],
   "source": [
    "#check dataframe\n",
    "xboxone"
   ]
  },
  {
   "cell_type": "code",
   "execution_count": null,
   "metadata": {},
   "outputs": [],
   "source": [
    "#Make a GET request to url\n",
    "res_ps4 = requests.get(ps4_url, headers=headers)"
   ]
  },
  {
   "cell_type": "code",
   "execution_count": null,
   "metadata": {},
   "outputs": [],
   "source": [
    "#Get status code\n",
    "res_ps4.status_code"
   ]
  },
  {
   "cell_type": "code",
   "execution_count": null,
   "metadata": {},
   "outputs": [],
   "source": [
    "#Assign json\n",
    "the_json_ps4 = res_ps4.json()"
   ]
  },
  {
   "cell_type": "code",
   "execution_count": null,
   "metadata": {},
   "outputs": [],
   "source": [
    "#Sorting\n",
    "sorted(the_json_ps4.keys())"
   ]
  },
  {
   "cell_type": "code",
   "execution_count": null,
   "metadata": {},
   "outputs": [],
   "source": [
    "#Sorting\n",
    "sorted(the_json_ps4['data'].keys())"
   ]
  },
  {
   "cell_type": "code",
   "execution_count": null,
   "metadata": {},
   "outputs": [],
   "source": [
    "#scrape first thread\n",
    "the_json_ps4['data']['children'][1]['data']"
   ]
  },
  {
   "cell_type": "code",
   "execution_count": null,
   "metadata": {},
   "outputs": [],
   "source": [
    "#get id of first thread\n",
    "the_json_ps4['data']['after']"
   ]
  },
  {
   "cell_type": "code",
   "execution_count": null,
   "metadata": {},
   "outputs": [],
   "source": [
    "#get more thread id\n",
    "[post['data']['name'] for post in the_json_ps4['data']['children']]"
   ]
  },
  {
   "cell_type": "code",
   "execution_count": null,
   "metadata": {},
   "outputs": [],
   "source": [
    "#set param\n",
    "param = {'after': 'ffhs9o'}"
   ]
  },
  {
   "cell_type": "code",
   "execution_count": null,
   "metadata": {},
   "outputs": [],
   "source": [
    "#assign param\n",
    "requests.get(ps4_url, params = param, headers=headers)"
   ]
  },
  {
   "cell_type": "code",
   "execution_count": null,
   "metadata": {},
   "outputs": [],
   "source": [
    "#establish webscrape loop\n",
    "posts_ps4 = []\n",
    "after = None\n",
    "for i in range(40):\n",
    "    print(i)\n",
    "    if after == None:\n",
    "        params = {}\n",
    "    else:\n",
    "        params = {'after' : after}\n",
    "    url = 'https://www.reddit.com/r/PS4.json'\n",
    "    res = requests.get(url, params = params, headers = headers)\n",
    "    if res.status_code == 200:\n",
    "        the_json = res.json()\n",
    "        posts_ps4.extend(the_json['data']['children'])\n",
    "        after = the_json['data']['after']\n",
    "    else :\n",
    "        print(res.status_code)\n",
    "        break\n",
    "    time.sleep(1)"
   ]
  },
  {
   "cell_type": "code",
   "execution_count": null,
   "metadata": {},
   "outputs": [],
   "source": [
    "#check length\n",
    "len(set([p['data']['name']for p in posts_ps4]))"
   ]
  },
  {
   "cell_type": "code",
   "execution_count": null,
   "metadata": {},
   "outputs": [],
   "source": [
    "#assign dataframe\n",
    "ps4 = pd.DataFrame(posts_ps4)"
   ]
  },
  {
   "cell_type": "code",
   "execution_count": null,
   "metadata": {},
   "outputs": [],
   "source": [
    "#save as csv file\n",
    "pd.DataFrame(posts_ps4).to_csv('ps4.csv')"
   ]
  },
  {
   "cell_type": "code",
   "execution_count": null,
   "metadata": {},
   "outputs": [],
   "source": [
    "#check dataframe\n",
    "ps4.describe"
   ]
  }
 ],
 "metadata": {
  "kernelspec": {
   "display_name": "Python 3",
   "language": "python",
   "name": "python3"
  },
  "language_info": {
   "codemirror_mode": {
    "name": "ipython",
    "version": 3
   },
   "file_extension": ".py",
   "mimetype": "text/x-python",
   "name": "python",
   "nbconvert_exporter": "python",
   "pygments_lexer": "ipython3",
   "version": "3.7.6"
  }
 },
 "nbformat": 4,
 "nbformat_minor": 2
}
